{
 "cells": [
  {
   "cell_type": "code",
   "execution_count": null,
   "id": "f6b8565f",
   "metadata": {},
   "outputs": [
    {
     "name": "stdout",
     "output_type": "stream",
     "text": [
      "WARNING:tensorflow:From c:\\Users\\USER\\anaconda3\\envs\\py3.9\\lib\\site-packages\\tf_keras\\src\\losses.py:2976: The name tf.losses.sparse_softmax_cross_entropy is deprecated. Please use tf.compat.v1.losses.sparse_softmax_cross_entropy instead.\n",
      "\n"
     ]
    }
   ],
   "source": [
    "from inho_function import rawdata_to_cleandata,txt_to_pkl_tokens"
   ]
  },
  {
   "cell_type": "code",
   "execution_count": null,
   "id": "1da9a825",
   "metadata": {},
   "outputs": [],
   "source": [
    "name_list =  ['나의백수','앵무새죽이기_허퍼리','어린왕자','우리들의행복한시간','키다리_아저씨']\n",
    "\n",
    "for file_name in name_list:\n",
    "    rawdata_to_cleandata(f'no_han_book/{file_name}')\n",
    "for file_name in name_list:\n",
    "    txt_to_pkl_tokens(f'no_han_book/{file_name}')"
   ]
  },
  {
   "cell_type": "code",
   "execution_count": 2,
   "id": "b06978ab",
   "metadata": {},
   "outputs": [
    {
     "name": "stderr",
     "output_type": "stream",
     "text": [
      "단어 벡터화 중: 100%|██████████| 1761/1761 [00:00<00:00, 879620.02it/s]\n",
      "단어 벡터화 중: 100%|██████████| 5042/5042 [00:00<00:00, 720387.00it/s]\n",
      "단어 벡터화 중: 100%|██████████| 1175/1175 [00:00<00:00, 1179585.26it/s]\n",
      "단어 벡터화 중: 100%|██████████| 1680/1680 [00:00<00:00, 1673736.51it/s]\n",
      "단어 벡터화 중: 100%|██████████| 4150/4150 [00:00<00:00, 1025290.78it/s]\n"
     ]
    }
   ],
   "source": [
    "for file_name in name_list:\n",
    "    pkl_token_to_vectoredata(f'no_han_book/{file_name}.pkl',f'{file_name}')"
   ]
  },
  {
   "cell_type": "code",
   "execution_count": null,
   "id": "778c9b21",
   "metadata": {},
   "outputs": [
    {
     "name": "stderr",
     "output_type": "stream",
     "text": [
      " 92%|█████████▏| 8564/9330 [01:01<00:05, 137.29it/s]"
     ]
    }
   ],
   "source": [
    "name_list =  ['검은사슴','그대의차가운손','채식주의자','희랍어시간']\n",
    "\n",
    "for file_name in name_list:\n",
    "    rawdata_to_cleandata(f'han_book/{file_name}')\n",
    "for file_name in name_list:\n",
    "    txt_to_pkl_tokens(f'han_book/{file_name}')\n"
   ]
  },
  {
   "cell_type": "code",
   "execution_count": null,
   "id": "f0c99dac",
   "metadata": {},
   "outputs": [],
   "source": [
    "for file_name in name_list:\n",
    "    pkl_token_to_vectoredata(f'han_book/{file_name}.pkl',f'{file_name}')"
   ]
  },
  {
   "cell_type": "code",
   "execution_count": 12,
   "id": "4773c626",
   "metadata": {},
   "outputs": [],
   "source": [
    "import pickle\n",
    "from gensim.models import KeyedVectors\n",
    "import numpy as np\n",
    "from sklearn.manifold import TSNE  # 또는 from sklearn.decomposition import PCA\n",
    "import matplotlib.pyplot as plt\n",
    "from collections import Counter\n",
    "import re\n",
    "\n",
    "from matplotlib import font_manager, rc\n",
    "font_path = \"NanumGothic.ttf\" # Windows 예시\n",
    "font = font_manager.FontProperties(fname=font_path).get_name()\n",
    "rc('font', family=font)"
   ]
  },
  {
   "cell_type": "code",
   "execution_count": 13,
   "id": "6b33914d",
   "metadata": {},
   "outputs": [
    {
     "name": "stdout",
     "output_type": "stream",
     "text": [
      "Gensim KeyedVectors 모델 로드 완료.\n"
     ]
    }
   ],
   "source": [
    "model_path = \"no_han_book/cc.ko.300.kv\" # 사용자의 .kv 모델 경로\n",
    "# 또는 model_path = \"no_han_book/cc.ko.300.bin\" # FastText 모델 직접 사용 시\n",
    "# Gensim KeyedVectors 모델 로드\n",
    "model = KeyedVectors.load(model_path, mmap='r') # mmap='r'은 메모리 효율적 로드\n",
    "print(\"Gensim KeyedVectors 모델 로드 완료.\")\n",
    "# model_vocab = model.key_to_index # Gensim 4.x 이상\n",
    "model_vocab = model.index_to_key # 또는 model.wv.index_to_key (버전 확인 필요)"
   ]
  },
  {
   "cell_type": "code",
   "execution_count": 14,
   "id": "99c65e05",
   "metadata": {},
   "outputs": [],
   "source": [
    "def load_tokens_from_pkl(pkl_path):\n",
    "    with open(pkl_path, \"rb\") as f:\n",
    "        data = pickle.load(f)\n",
    "    all_tokens = []\n",
    "    for entry in data:\n",
    "        all_tokens.extend(entry.get('tokens', []))\n",
    "    return all_tokens\n",
    "    \n",
    "tokens_A = load_tokens_from_pkl('no_han_book/어린왕자.pkl')\n",
    "tokens_B = load_tokens_from_pkl('no_han_book/키다리_아저씨.pkl')\n",
    "\n"
   ]
  },
  {
   "cell_type": "code",
   "execution_count": 15,
   "id": "ae9d3c2a",
   "metadata": {},
   "outputs": [
    {
     "name": "stdout",
     "output_type": "stream",
     "text": [
      "시각화 대상 단어 수: 196\n"
     ]
    }
   ],
   "source": [
    "def get_top_n_words(tokens, n=100):\n",
    "    # 빈도수 계산\n",
    "    counts = Counter(tokens)\n",
    "    # 빈도수 높은 순으로 정렬하고, 모델에 있는 단어만 필터링\n",
    "    top_words = []\n",
    "    # Gensim KeyedVectors 사용 시\n",
    "    if hasattr(model, 'key_to_index') or hasattr(model, 'index_to_key'):\n",
    "        model_vocab_set = set(model.index_to_key) # Gensim 4.x 이상 or model.wv.index_to_key\n",
    "        for word, _ in counts.most_common():\n",
    "            if word in model_vocab_set:\n",
    "                top_words.append(word)\n",
    "                if len(top_words) == n:\n",
    "                    break\n",
    "    # FastText 모델 직접 사용 시\n",
    "    elif hasattr(model, 'get_words'):\n",
    "         model_vocab_set = set(model.get_words())\n",
    "         for word, _ in counts.most_common():\n",
    "             if word in model_vocab_set: # FastText는 OOV 처리가 될 수도 있지만, 명시적으로 확인\n",
    "                 top_words.append(word)\n",
    "                 if len(top_words) == n:\n",
    "                    break\n",
    "    else:\n",
    "        print(\"모델 타입 인식 불가.\")\n",
    "        return []\n",
    "\n",
    "    return top_words\n",
    "\n",
    "top_words_A = get_top_n_words(tokens_A, n=100)\n",
    "top_words_B = get_top_n_words(tokens_B, n=100)\n",
    "\n",
    "# 두 그룹 간 겹치지 않는 단어만 사용하거나, 겹치는 단어는 별도 표시 가능\n",
    "# 여기서는 간단하게 합치되, 출처를 기억\n",
    "words_to_visualize = []\n",
    "groups = [] # 'A' 또는 'B' 레이블 저장\n",
    "\n",
    "for word in top_words_A:\n",
    "    if word not in words_to_visualize: # 중복 추가 방지\n",
    "         words_to_visualize.append(word)\n",
    "         groups.append('A')\n",
    "for word in top_words_B:\n",
    "    if word not in words_to_visualize: # 중복 추가 방지\n",
    "         words_to_visualize.append(word)\n",
    "         groups.append('B')\n",
    "    # 만약 겹치는 단어도 포함하고 싶다면, 그룹 정보를 다르게 처리해야 함\n",
    "    # 예: words_to_visualize.append(word); groups.append('B' if word not in top_words_A else 'Both')\n",
    "\n",
    "print(f\"시각화 대상 단어 수: {len(words_to_visualize)}\")"
   ]
  },
  {
   "cell_type": "code",
   "execution_count": 16,
   "id": "154035ed",
   "metadata": {},
   "outputs": [
    {
     "name": "stdout",
     "output_type": "stream",
     "text": [
      "추출된 벡터 수: 196\n"
     ]
    }
   ],
   "source": [
    "word_vectors = []\n",
    "valid_words = []\n",
    "valid_groups = []\n",
    "\n",
    "for word, group in zip(words_to_visualize, groups):\n",
    "    try:\n",
    "        # Gensim KeyedVectors 사용 시\n",
    "        if hasattr(model, 'key_to_index') or hasattr(model, 'index_to_key'):\n",
    "             vector = model[word]\n",
    "        # FastText 모델 직접 사용 시\n",
    "        elif hasattr(model, 'get_word_vector'):\n",
    "             vector = model.get_word_vector(word)\n",
    "        else:\n",
    "             print(f\"모델 타입 인식 불가: {word} 스킵\")\n",
    "             continue\n",
    "\n",
    "        word_vectors.append(vector)\n",
    "        valid_words.append(word)\n",
    "        valid_groups.append(group)\n",
    "\n",
    "    except KeyError:\n",
    "        # 이 경우는 get_top_n_words에서 필터링 했으므로 발생하지 않아야 함\n",
    "        print(f\"경고: 단어 '{word}'가 모델에 없습니다. (선정 로직 확인 필요)\")\n",
    "    except Exception as e:\n",
    "        print(f\"벡터 추출 오류 ({word}): {e}\")\n",
    "\n",
    "\n",
    "if not word_vectors:\n",
    "    print(\"유효한 단어 벡터를 추출하지 못했습니다. 프로그램을 종료합니다.\")\n",
    "    exit()\n",
    "\n",
    "word_vectors_np = np.array(word_vectors)\n",
    "print(f\"추출된 벡터 수: {len(word_vectors_np)}\")"
   ]
  },
  {
   "cell_type": "code",
   "execution_count": 17,
   "id": "0c5fb177",
   "metadata": {},
   "outputs": [
    {
     "name": "stderr",
     "output_type": "stream",
     "text": [
      "c:\\Users\\USER\\anaconda3\\envs\\py3.9\\lib\\site-packages\\sklearn\\manifold\\_t_sne.py:1164: FutureWarning: 'n_iter' was renamed to 'max_iter' in version 1.5 and will be removed in 1.7.\n",
      "  warnings.warn(\n"
     ]
    },
    {
     "name": "stdout",
     "output_type": "stream",
     "text": [
      "t-SNE 차원 축소 완료.\n"
     ]
    }
   ],
   "source": [
    "# t-SNE 적용\n",
    "tsne = TSNE(n_components=2, random_state=42, perplexity=30, n_iter=1000, learning_rate='auto')\n",
    "# perplexity 값 (보통 5-50)이나 n_iter 값을 조절해보세요. 데이터가 많으면 시간이 오래 걸릴 수 있습니다.\n",
    "# learning_rate='auto'는 최신 scikit-learn에서 권장됩니다.\n",
    "try:\n",
    "    vectors_2d = tsne.fit_transform(word_vectors_np)\n",
    "    print(\"t-SNE 차원 축소 완료.\")\n",
    "except Exception as e:\n",
    "    print(f\"t-SNE 실행 중 오류: {e}\")\n",
    "    # PCA로 대체 시도\n",
    "    try:\n",
    "        from sklearn.decomposition import PCA\n",
    "        print(\"PCA를 시도합니다.\")\n",
    "        pca = PCA(n_components=2)\n",
    "        vectors_2d = pca.fit_transform(word_vectors_np)\n",
    "        print(\"PCA 차원 축소 완료.\")\n",
    "    except Exception as e_pca:\n",
    "        print(f\"PCA 실행 중 오류: {e_pca}. 시각화를 진행할 수 없습니다.\")\n",
    "        exit()"
   ]
  },
  {
   "cell_type": "code",
   "execution_count": 18,
   "id": "b11d4eb0",
   "metadata": {},
   "outputs": [
    {
     "name": "stderr",
     "output_type": "stream",
     "text": [
      "findfont: Font family 'NanumGothic' not found.\n",
      "findfont: Font family 'NanumGothic' not found.\n",
      "findfont: Font family 'NanumGothic' not found.\n",
      "findfont: Font family 'NanumGothic' not found.\n",
      "findfont: Font family 'NanumGothic' not found.\n",
      "findfont: Font family 'NanumGothic' not found.\n",
      "findfont: Font family 'NanumGothic' not found.\n",
      "findfont: Font family 'NanumGothic' not found.\n",
      "findfont: Font family 'NanumGothic' not found.\n",
      "findfont: Font family 'NanumGothic' not found.\n",
      "findfont: Font family 'NanumGothic' not found.\n",
      "findfont: Font family 'NanumGothic' not found.\n",
      "findfont: Font family 'NanumGothic' not found.\n",
      "findfont: Font family 'NanumGothic' not found.\n",
      "findfont: Font family 'NanumGothic' not found.\n",
      "findfont: Font family 'NanumGothic' not found.\n",
      "findfont: Font family 'NanumGothic' not found.\n",
      "findfont: Font family 'NanumGothic' not found.\n",
      "findfont: Font family 'NanumGothic' not found.\n",
      "findfont: Font family 'NanumGothic' not found.\n",
      "findfont: Font family 'NanumGothic' not found.\n",
      "findfont: Font family 'NanumGothic' not found.\n",
      "findfont: Font family 'NanumGothic' not found.\n",
      "findfont: Font family 'NanumGothic' not found.\n",
      "findfont: Font family 'NanumGothic' not found.\n",
      "findfont: Font family 'NanumGothic' not found.\n",
      "findfont: Font family 'NanumGothic' not found.\n",
      "findfont: Font family 'NanumGothic' not found.\n",
      "findfont: Font family 'NanumGothic' not found.\n",
      "findfont: Font family 'NanumGothic' not found.\n",
      "findfont: Font family 'NanumGothic' not found.\n",
      "findfont: Font family 'NanumGothic' not found.\n",
      "findfont: Font family 'NanumGothic' not found.\n",
      "findfont: Font family 'NanumGothic' not found.\n",
      "findfont: Font family 'NanumGothic' not found.\n",
      "findfont: Font family 'NanumGothic' not found.\n",
      "findfont: Font family 'NanumGothic' not found.\n",
      "findfont: Font family 'NanumGothic' not found.\n",
      "findfont: Font family 'NanumGothic' not found.\n",
      "findfont: Font family 'NanumGothic' not found.\n",
      "findfont: Font family 'NanumGothic' not found.\n",
      "findfont: Font family 'NanumGothic' not found.\n",
      "findfont: Font family 'NanumGothic' not found.\n",
      "findfont: Font family 'NanumGothic' not found.\n",
      "findfont: Font family 'NanumGothic' not found.\n",
      "findfont: Font family 'NanumGothic' not found.\n",
      "findfont: Font family 'NanumGothic' not found.\n",
      "findfont: Font family 'NanumGothic' not found.\n",
      "findfont: Font family 'NanumGothic' not found.\n",
      "findfont: Font family 'NanumGothic' not found.\n",
      "findfont: Font family 'NanumGothic' not found.\n",
      "findfont: Font family 'NanumGothic' not found.\n",
      "findfont: Font family 'NanumGothic' not found.\n",
      "findfont: Font family 'NanumGothic' not found.\n",
      "findfont: Font family 'NanumGothic' not found.\n",
      "findfont: Font family 'NanumGothic' not found.\n",
      "findfont: Font family 'NanumGothic' not found.\n",
      "findfont: Font family 'NanumGothic' not found.\n",
      "findfont: Font family 'NanumGothic' not found.\n",
      "findfont: Font family 'NanumGothic' not found.\n",
      "findfont: Font family 'NanumGothic' not found.\n",
      "findfont: Font family 'NanumGothic' not found.\n",
      "findfont: Font family 'NanumGothic' not found.\n",
      "findfont: Font family 'NanumGothic' not found.\n"
     ]
    },
    {
     "data": {
      "image/png": "[encoded data removed]",
      "text/plain": [
       "<Figure size 1400x1000 with 1 Axes>"
      ]
     },
     "metadata": {},
     "output_type": "display_data"
    }
   ],
   "source": [
    "plt.figure(figsize=(14, 10))\n",
    "\n",
    "# 그룹별로 점 찍기\n",
    "unique_groups = sorted(list(set(valid_groups))) # ['A', 'B'] 또는 ['A', 'B', 'Both'] 등\n",
    "colors = {'A': 'blue', 'B': 'red', 'Both': 'green'} # 그룹별 색상 지정\n",
    "\n",
    "for group_label in unique_groups:\n",
    "    indices = [i for i, g in enumerate(valid_groups) if g == group_label]\n",
    "    if indices:\n",
    "        plt.scatter(vectors_2d[indices, 0], vectors_2d[indices, 1],\n",
    "                    c=colors.get(group_label, 'gray'), # 정의되지 않은 그룹은 회색\n",
    "                    label=f'Group {group_label}', alpha=0.7, s=50) # s는 점 크기\n",
    "\n",
    "# (선택) 각 점에 단어 레이블 추가 (너무 많으면 지저분해짐)\n",
    "# 특정 단어만 표시하거나, 확대 시 보이도록 인터랙티브 플롯 라이브러리(plotly, bokeh) 사용 고려\n",
    "# for i, word in enumerate(valid_words):\n",
    "#    plt.annotate(word, (vectors_2d[i, 0], vectors_2d[i, 1]), fontsize=9)\n",
    "\n",
    "plt.title('t-SNE Visualization of Word Embeddings by Author Group')\n",
    "plt.xlabel('t-SNE Dimension 1')\n",
    "plt.ylabel('t-SNE Dimension 2')\n",
    "plt.legend()\n",
    "plt.grid(True)\n",
    "plt.show()"
   ]
  },
  {
   "cell_type": "code",
   "execution_count": 9,
   "id": "9aac218f",
   "metadata": {},
   "outputs": [
    {
     "data": {
      "text/plain": [
       "'c:\\\\Users\\\\USER\\\\anaconda3\\\\envs\\\\py3.9\\\\lib\\\\site-packages\\\\matplotlib\\\\mpl-data\\\\matplotlibrc'"
      ]
     },
     "execution_count": 9,
     "metadata": {},
     "output_type": "execute_result"
    }
   ],
   "source": [
    "import matplotlib \n",
    "matplotlib.matplotlib_fname()"
   ]
  },
  {
   "cell_type": "code",
   "execution_count": null,
   "id": "68649d91",
   "metadata": {},
   "outputs": [],
   "source": []
  }
 ],
 "metadata": {
  "kernelspec": {
   "display_name": "py3.9",
   "language": "python",
   "name": "python3"
  },
  "language_info": {
   "codemirror_mode": {
    "name": "ipython",
    "version": 3
   },
   "file_extension": ".py",
   "mimetype": "text/x-python",
   "name": "python",
   "nbconvert_exporter": "python",
   "pygments_lexer": "ipython3",
   "version": "3.9.21"
  }
 },
 "nbformat": 4,
 "nbformat_minor": 5
}

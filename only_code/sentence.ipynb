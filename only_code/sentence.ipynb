{
 "cells": [
  {
   "cell_type": "code",
   "execution_count": null,
   "metadata": {},
   "outputs": [],
   "source": [
    "import sys\n",
    "# 절대 경로 추가\n",
    "sys.path.append(r\"D:\\\\AHN\\\\대학교\\\\랩실\\\\1학년 겨울 방학\\\\빅데이터 세미나\\\\Han_Kang_book_programing_2025\")\n",
    "from functions import *\n",
    "\n",
    "filtering_num =0.02\n",
    "\n",
    "rawdata_to_cleandata(\"data.txt\")"
   ]
  },
  {
   "cell_type": "code",
   "execution_count": null,
   "metadata": {},
   "outputs": [],
   "source": [
    "book_to_pkl_nouns(\"clean_data.txt\")\n",
    "book_to_pkl_all(\"clean_data.txt\")"
   ]
  },
  {
   "cell_type": "code",
   "execution_count": null,
   "metadata": {},
   "outputs": [],
   "source": [
    "nouns_지지도(\"nouns_lines.pkl\")\n",
    "all_지지도(\"all_lines.pkl\")"
   ]
  },
  {
   "cell_type": "code",
   "execution_count": null,
   "metadata": {},
   "outputs": [],
   "source": [
    "nouns_신뢰도(\"nouns_lines.pkl\")\n",
    "all_신뢰도(\"all_lines.pkl\")"
   ]
  },
  {
   "cell_type": "code",
   "execution_count": null,
   "metadata": {},
   "outputs": [],
   "source": [
    "nouns_향상도(\"nouns_lines.pkl\")\n",
    "all_향상도(\"all_lines.pkl\")"
   ]
  }
 ],
 "metadata": {
  "kernelspec": {
   "display_name": "py3.9",
   "language": "python",
   "name": "python3"
  },
  "language_info": {
   "codemirror_mode": {
    "name": "ipython",
    "version": 3
   },
   "file_extension": ".py",
   "mimetype": "text/x-python",
   "name": "python",
   "nbconvert_exporter": "python",
   "pygments_lexer": "ipython3",
   "version": "3.9.21"
  }
 },
 "nbformat": 4,
 "nbformat_minor": 2
}

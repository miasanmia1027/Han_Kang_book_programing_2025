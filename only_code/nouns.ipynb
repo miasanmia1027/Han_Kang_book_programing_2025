{
 "cells": [
  {
   "cell_type": "code",
   "execution_count": null,
   "metadata": {},
   "outputs": [],
   "source": [
    "import sys\n",
    "sys.path.append(r\"D:\\\\AHN\\\\대학교\\\\랩실\\\\1학년 겨울 방학\\\\빅데이터 세미나\\\\Han_Kang_book_programing_2025\\\\only_code\")\n",
    "from functions import *"
   ]
  },
  {
   "cell_type": "code",
   "execution_count": null,
   "metadata": {},
   "outputs": [],
   "source": [
    "rawdata_to_cleandata(\"data.txt\")"
   ]
  },
  {
   "cell_type": "code",
   "execution_count": null,
   "metadata": {},
   "outputs": [],
   "source": [
    "book_to_pkl_nouns(\"clean_data.txt\")"
   ]
  },
  {
   "cell_type": "code",
   "execution_count": null,
   "metadata": {},
   "outputs": [],
   "source": [
    "nouns_지지도(\"nouns_lines.pkl\")\n",
    "nouns_신뢰도(\"nouns_lines.pkl\")\n",
    "nouns_향상도(\"nouns_lines.pkl\")"
   ]
  },
  {
   "cell_type": "code",
   "execution_count": null,
   "metadata": {},
   "outputs": [],
   "source": [
    "# combin_three_nouns()"
   ]
  }
 ],
 "metadata": {
  "language_info": {
   "name": "python"
  }
 },
 "nbformat": 4,
 "nbformat_minor": 2
}
